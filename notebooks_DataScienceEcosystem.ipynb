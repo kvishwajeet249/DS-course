{
  "metadata": {
    "kernelspec": {
      "name": "python",
      "display_name": "Python (Pyodide)",
      "language": "python"
    },
    "language_info": {
      "codemirror_mode": {
        "name": "python",
        "version": 3
      },
      "file_extension": ".py",
      "mimetype": "text/x-python",
      "name": "python",
      "nbconvert_exporter": "python",
      "pygments_lexer": "ipython3",
      "version": "3.8"
    }
  },
  "nbformat_minor": 5,
  "nbformat": 4,
  "cells": [
    {
      "cell_type": "markdown",
      "source": "# Data Science Tools and Ecosystem",
      "metadata": {},
      "id": "b29db981-524e-46fe-8800-0ff739f51cdd"
    },
    {
      "cell_type": "markdown",
      "source": "In this notebook, Data Science Tools and Ecosystem are summarized.",
      "metadata": {},
      "id": "f9a5b201-04dd-41bc-a72f-a11dea89e6e6"
    },
    {
      "cell_type": "markdown",
      "source": "**Objectives:**\n1. popular languages for ds\n2. popular tools for ds\n3. common libraries of DS",
      "metadata": {},
      "id": "7befa9fe-aaf1-42b6-94fa-c4107c008f39"
    },
    {
      "cell_type": "markdown",
      "source": "Some of the popular languages that Data Scientists use are:\n1. R\n2. python\n3. SQL",
      "metadata": {},
      "id": "14477015-3407-4249-be0b-1ffc587f045a"
    },
    {
      "cell_type": "markdown",
      "source": "Some of the commonly used libraries used by Data Scientists include:\n1. NumPy\n2. TensorFlow\n3. Pandas",
      "metadata": {},
      "id": "84f27e4b-66ff-400b-bee5-c874e55b5871"
    },
    {
      "cell_type": "markdown",
      "source": "| Data science tools |\n|--------------------|\n|apache hadoop|\n|Apache Spark|\n|BigML|",
      "metadata": {
        "jupyter": {
          "source_hidden": true
        }
      },
      "id": "47761cb0-ac9f-4c24-9a17-f578b800ad7f"
    },
    {
      "cell_type": "markdown",
      "source": "### Below are a few examples of evaluating arithmetic expressions in Python.\n",
      "metadata": {},
      "id": "c4cdce10-31fe-482e-a4b0-92d694be6822"
    },
    {
      "cell_type": "code",
      "source": "(3*4)+5\n# This a simple arithmetic expression to mutiply then add integers",
      "metadata": {
        "trusted": true
      },
      "execution_count": 1,
      "outputs": [
        {
          "execution_count": 1,
          "output_type": "execute_result",
          "data": {
            "text/plain": "17"
          },
          "metadata": {}
        }
      ],
      "id": "5ea8c61b-1c6e-4063-97e4-f9519dde28bd"
    },
    {
      "cell_type": "code",
      "source": "#This will convert 200 minutes to hours by diving by 60\nminutes = 200\nhours = minutes/60\nprint(hours)\n",
      "metadata": {
        "trusted": true
      },
      "execution_count": 2,
      "outputs": [
        {
          "name": "stdout",
          "text": "3.3333333333333335\n",
          "output_type": "stream"
        }
      ],
      "id": "8a0d678f-5867-4bd5-a282-c134cc588b1e"
    },
    {
      "cell_type": "markdown",
      "source": "## Author \nvishwajeet kukkala",
      "metadata": {},
      "id": "999284b3-8751-467d-b36d-be8b6f3e4806"
    },
    {
      "cell_type": "code",
      "source": "",
      "metadata": {},
      "execution_count": null,
      "outputs": [],
      "id": "85df2b64-3ab6-4259-b64f-3b8109982ed9"
    }
  ]
}