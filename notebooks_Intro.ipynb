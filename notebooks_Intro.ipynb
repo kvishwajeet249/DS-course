{
  "metadata": {
    "kernelspec": {
      "name": "python",
      "display_name": "Python (Pyodide)",
      "language": "python"
    },
    "language_info": {
      "codemirror_mode": {
        "name": "python",
        "version": 3
      },
      "file_extension": ".py",
      "mimetype": "text/x-python",
      "name": "python",
      "nbconvert_exporter": "python",
      "pygments_lexer": "ipython3",
      "version": "3.8"
    }
  },
  "nbformat_minor": 5,
  "nbformat": 4,
  "cells": [
    {
      "cell_type": "markdown",
      "source": "# My Jupyter Notebook on IBM Watson Studio",
      "metadata": {},
      "id": "b29db981-524e-46fe-8800-0ff739f51cdd"
    },
    {
      "cell_type": "markdown",
      "source": "**Vishwajeet Kukkala**\nStudent",
      "metadata": {},
      "id": "f9a5b201-04dd-41bc-a72f-a11dea89e6e6"
    },
    {
      "cell_type": "markdown",
      "source": "*As we know the importance of data and the way we can toucch peoples lives with it*",
      "metadata": {},
      "id": "cbe4c9fd-006d-4d19-8492-9f42ff505a4e"
    },
    {
      "cell_type": "markdown",
      "source": "### the code prints hello wrold",
      "metadata": {},
      "id": "16a879f5-3932-44bc-996b-aafc2904baab"
    },
    {
      "cell_type": "code",
      "source": "print(\"hello world\")",
      "metadata": {},
      "execution_count": null,
      "outputs": [],
      "id": "7e2f02c2-57ba-4b25-95bc-4146bf0d3b3b"
    },
    {
      "cell_type": "markdown",
      "source": "________________________________________________________\n1. data preparation\n2. data visualisation\n\n- output 1\n- output 2\n",
      "metadata": {},
      "id": "fd49450e-5f80-48de-b552-6fac34201b96"
    }
  ]
}